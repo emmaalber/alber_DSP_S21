{
 "cells": [
  {
   "cell_type": "markdown",
   "id": "affected-olympus",
   "metadata": {},
   "source": [
    "Emma Alber, Data Science for Psychologists, June 2021\n",
    "\n",
    "# Final Project: A Closer Look at the Human Freedom Index\n",
    "\n",
    "## 1. Introduction\n",
    "\n",
    "For more than a year now, citizens around the world have had to get used to terms like \"lockdown\" and \"mandatory masks\", as well as to the fact that their state suddenly imposes many and at times very strict rules to follow. This consequence of COVID-19 has fueled heated discussions about the concept of freedom in states whose residents otherwise pay little attention to the issue. Yet the freedom of people has been an important matter before this pandemic, and in many countries the freedom to go to the barber shop is the least of citizens' concerns when it comes to their personal liberty.\n",
    "\n",
    "This project aims to shed light at the intricacies of human freedom (HF) around the world in the past decades until 2018 by analyzing data used in a paper about the Human Freedom Index (Vásquez & McMahon, 2020). After some background information about the concepts and the data has been given, the distribution of human freedom in different nations will be visualized and compared. Next, the influence of specific factors such as gender, size of government or business regulations on HF will be assessed. Finally, various models to predict HF will be built, tested and the best-fitting one will be chosen. \n",
    "\n",
    "## 2. Background \n",
    "\n",
    "There are countless ways to define freedom. This paper adopts the approach of Vásquez and McMahon, authors of the Human Freedom Index 2020 report, who use \"negative rights\" or \"negative liberty\" as a working definition of human freedom in their paper. The term negative rights was coined by the philosopher Isaiah Berlin, who wrote that negative liberty concerns \"the area within which the subject — a person or group of persons — is or should be left to do or be what he is able to do or be, without interference by other persons (Berlin, 1969, p. 119).\" Accordingly, this paper will compare countries and regions exclusively on the notion of how much (or little) their citizens experience constraint of various forms - especially by their government. \n",
    "While data collection and analysis can be done in a relatively objective manner, it is important to note that the political attitudes of the researchers can play a role, particularly in the selection of variables to be collected and in the interpretation of the results. It should be mentioned here that the editors of the HFI, which is the sole data source for this paper, are two libertarian \"think tanks\" based in the U.S. and Canada, respectively.\n",
    "Vásquez and McMahon (2020) collected and analyzed a broad range of variables operationalizing their definition of freedom from 162 countries. All attained measures were assigned values between 0 and 10, with a higher number representing more freedom (i.e., more safety, human rights, diversity, etc.). The data was aggregated into three indices: An index of personal freedom (PF) and for economic freedom (EF) respectively, whose combination results in the main index of HI. While PF serves as an index for specific personal freedoms such as freedom of religion, expression and identity, EF measures the possibility to engage in voluntary (financial) exchange and competition, and the safety of people and their property.\n",
    "The results of the HFI allow us to evaluate the development of HF over the past decade (since the first index was created in 2008) and allows us to rank and compare countries, as well as to assess the influence of specific variables on HF.\n",
    "\n",
    "## 3. Statistical Analyses\n",
    "\n",
    "### 3.0 Data Cleaning and Variables of Interest\n",
    "\n",
    "In order to work with the dataset, it needs to be cleaned and brought into tidy format first. "
   ]
  },
  {
   "cell_type": "code",
   "execution_count": null,
   "id": "mediterranean-advantage",
   "metadata": {},
   "outputs": [],
   "source": [
    "# £ load dataset"
   ]
  },
  {
   "cell_type": "markdown",
   "id": "stupid-saying",
   "metadata": {},
   "source": [
    "£ The variables of interest are..."
   ]
  },
  {
   "cell_type": "markdown",
   "id": "oriental-costa",
   "metadata": {},
   "source": [
    "### 3.1 The Distribution of Freedom in the World\n",
    "\n",
    "To get an overview of the state of freedom in the world, I will start by inspecting the distribution of freedom in the world and in different regions. We start out by looking at the complete data for the world:"
   ]
  },
  {
   "cell_type": "code",
   "execution_count": null,
   "id": "european-greece",
   "metadata": {},
   "outputs": [],
   "source": [
    "#plot histogram for variable \"HFI\" for all available countries\n",
    "\n",
    "\n",
    "\n",
    "#plot histogram for variable \"HFI\" for North America\n",
    "\n",
    "#plot histogram for variable \"HFI\" for Western Europe\n",
    "\n",
    "#plot histogram for variable \"HFI\" for East Asia\n",
    "\n",
    "#plot histogram for variable \"HFI\" for Oceania\n",
    "\n",
    "#plot histogram for variable \"HFI\" for Eastern Europe\n",
    "\n",
    "#plot histogram for variable \"HFI\" for Caucasus & Central Asia\n",
    "\n",
    "#plot histogram for variable \"HFI\" for Laitn America & the Caribbean\n",
    "\n",
    "#plot histogram for variable \"HFI\" for South Asia\n",
    "\n",
    "#plot histogram for variable \"HFI\" for Sub-Saharan Africa\n",
    "\n",
    "#plot histogram for variable \"HFI\" for Middle East & North Africa"
   ]
  },
  {
   "cell_type": "markdown",
   "id": "center-bedroom",
   "metadata": {},
   "source": [
    "The plots show that HF follows a skewed distribution with more countries"
   ]
  },
  {
   "cell_type": "markdown",
   "id": "artistic-profit",
   "metadata": {},
   "source": [
    "### 3.2 The Development of Freedom Since 2008\n",
    "\n",
    "£ How has the distribution changed over the past decade? (DV: HFI, IV: country) Again, I would show this with a density plot, additionally I'd show a the scatter plot to show how HFI changes over the years and to find out if I can run a linear regression of year on HFI in order to put the influence of the year on HFI into numbers.\n",
    "\n",
    "Which countries have shown the steepest growth in HF from 2008-2018? Which countries have shown the steepest decrease in HF from 2008-2018? (DV: HFI, IV: year) I would show the growth of HF in a scatterplot just like described above, but one for each country. Additionally I assume I can fit a linear regression of year on HFI for each country. I can then compare the slopes for each country to find out which one has the steepest increase or decline."
   ]
  },
  {
   "cell_type": "code",
   "execution_count": null,
   "id": "organizational-skating",
   "metadata": {},
   "outputs": [],
   "source": [
    "#plot histogram\n",
    "#plot scatterplot\n",
    "#plot scatterplot for specific countries"
   ]
  },
  {
   "cell_type": "markdown",
   "id": "planned-cylinder",
   "metadata": {},
   "source": [
    "£ The plots above show us that..."
   ]
  },
  {
   "cell_type": "markdown",
   "id": "pleased-mechanics",
   "metadata": {},
   "source": [
    "### 3.3 A Closer Look at Female-Specific Freedoms\n",
    "\n",
    "£ Are there significant differences between the index for female-specific freedoms and the HFI? I plan to run a t-test to find out whether there is a significant difference between the mean index for female-specific freedoms and the mean HFI."
   ]
  },
  {
   "cell_type": "code",
   "execution_count": null,
   "id": "specified-traveler",
   "metadata": {},
   "outputs": [],
   "source": [
    "# run t-test to test for difference between HFI and female-specific freedom index\n"
   ]
  },
  {
   "cell_type": "markdown",
   "id": "bulgarian-portrait",
   "metadata": {},
   "source": [
    "£ The plots above show us that..."
   ]
  },
  {
   "cell_type": "markdown",
   "id": "dangerous-guest",
   "metadata": {},
   "source": [
    "### 3.4 The Influence of Size of Government on HF\n",
    "\n",
    "£ What does the correlation of the variable \"size of government\" with HFI look like? I plan to use Pearson's product-moment correlation to find out if there is a significant correlation between these two variables."
   ]
  },
  {
   "cell_type": "code",
   "execution_count": null,
   "id": "beautiful-driver",
   "metadata": {},
   "outputs": [],
   "source": [
    "# apply Pearson's product-moment correlation to find out if there is a significant correlation between Size of Government and HF\n"
   ]
  },
  {
   "cell_type": "markdown",
   "id": "sacred-poker",
   "metadata": {},
   "source": [
    "£ The plots above show that..."
   ]
  },
  {
   "cell_type": "markdown",
   "id": "consecutive-baghdad",
   "metadata": {},
   "source": [
    "### 3.5 The Relationship between Personal Freedom and Economic Freedom \n",
    "£ Are there countries with high PF and low EF, and vice versa? \n",
    "I also plan to use Pearson's product-moment correlation to find out if there is a significant correlation between these two variables. In a second step, I would like to use a multiple regression model to find out if the correlation differs for different countries. Because \"country\" is a qualitative variable, I would have to create dummy variables for them."
   ]
  },
  {
   "cell_type": "code",
   "execution_count": null,
   "id": "located-twins",
   "metadata": {},
   "outputs": [],
   "source": [
    "# apply Pearson's product-moment correlation to find out if there is a significant correlation between PF and EF"
   ]
  },
  {
   "cell_type": "markdown",
   "id": "social-reset",
   "metadata": {},
   "source": [
    "£ The plots above show that..."
   ]
  },
  {
   "cell_type": "markdown",
   "id": "blank-confidence",
   "metadata": {},
   "source": [
    "### 3.6 The Relationship between Business Regulations and HF\n",
    "£ Are stricter business regulations associated with lower or higher HF? What about higher taxes? Again, I would use Pearson's product-moment correlation to find out if there is a significant correlation between the two variables."
   ]
  },
  {
   "cell_type": "code",
   "execution_count": null,
   "id": "buried-assault",
   "metadata": {},
   "outputs": [],
   "source": []
  },
  {
   "cell_type": "markdown",
   "id": "blank-liabilities",
   "metadata": {},
   "source": [
    "£ The plots above show that..."
   ]
  },
  {
   "cell_type": "markdown",
   "id": "gorgeous-handling",
   "metadata": {},
   "source": [
    "### 3.7 Building a Model to Predict HFI\n",
    "£ In order to build a model which can predict HFI in the future, I would split my dataset in a group of 6 and one oof 5 years' worth of data and use the data from years 2008-2013 as training data. Then I could use the data from 2014-2018 to test my model. I plan to first try to fit a linear regression model and check its fit. If it does not show an aequate fit, I will try non-linear models."
   ]
  },
  {
   "cell_type": "code",
   "execution_count": null,
   "id": "serial-estimate",
   "metadata": {},
   "outputs": [],
   "source": []
  },
  {
   "cell_type": "markdown",
   "id": "contemporary-scholarship",
   "metadata": {},
   "source": [
    "£ The attained model..."
   ]
  },
  {
   "cell_type": "markdown",
   "id": "legendary-collaboration",
   "metadata": {},
   "source": [
    "### 3.8 Somehow throw Bootstrap in there"
   ]
  },
  {
   "cell_type": "code",
   "execution_count": null,
   "id": "portable-halloween",
   "metadata": {},
   "outputs": [],
   "source": [
    "# strap some boots"
   ]
  },
  {
   "cell_type": "markdown",
   "id": "deluxe-insert",
   "metadata": {},
   "source": [
    "## 4. Conclusions\n",
    "£"
   ]
  },
  {
   "cell_type": "markdown",
   "id": "dimensional-manor",
   "metadata": {},
   "source": [
    "## Bibliography\n",
    "\n",
    "Berlin, I. (1969). Four Essays On Liberty. Oxford University Press.\n",
    "\n",
    "Vásquez, I., & McMahon, F. (2020). The Human Freedom Index 2020. Cato Institue and Fraser Institute. Retrieved from https://www.fraserinstitute.org/sites/default/files/human-freedom-index-2020.pdf "
   ]
  },
  {
   "cell_type": "code",
   "execution_count": null,
   "id": "parental-classroom",
   "metadata": {},
   "outputs": [],
   "source": []
  },
  {
   "cell_type": "code",
   "execution_count": null,
   "id": "filled-strand",
   "metadata": {},
   "outputs": [],
   "source": []
  }
 ],
 "metadata": {
  "kernelspec": {
   "display_name": "R",
   "language": "R",
   "name": "ir"
  },
  "language_info": {
   "codemirror_mode": "r",
   "file_extension": ".r",
   "mimetype": "text/x-r-source",
   "name": "R",
   "pygments_lexer": "r",
   "version": "4.0.4"
  }
 },
 "nbformat": 4,
 "nbformat_minor": 5
}
