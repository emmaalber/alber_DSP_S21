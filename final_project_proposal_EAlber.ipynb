{
 "cells": [
  {
   "cell_type": "markdown",
   "id": "advisory-printing",
   "metadata": {},
   "source": [
    "## Final Project Proposal"
   ]
  },
  {
   "cell_type": "markdown",
   "id": "swedish-initial",
   "metadata": {},
   "source": [
    "#### Name: Emma Alber "
   ]
  },
  {
   "cell_type": "markdown",
   "id": "occupied-marshall",
   "metadata": {},
   "source": [
    "#### Brief description of the dataset:\n",
    "\n",
    "> The proposed dataset belongs to a project called \"The Human Freedom Index\" (HFI), which aims to measure how freely people in 162 countries all over the world can live their life. The concept of freedom is operationalized by 112 different measures belonging to two subgroups: Personal freedom (PF) and economic freedom (EF). Additionally, there are five indicators to measure what the authors call \"women-specific freedoms\". Upon research, all measures were assigned values between 0 and 10, with a higher number representing more freedom (i.e., more safety, human rights, diversity, etc.) in this specific measure. They were then compiled into indices for PF, EF, and their combination into \"Human Freedom\" (HF). These indices also range from 1 to 10, with a higher number representig more freedom. \n",
    "The latest dataset from this project contains measures for the mentioned variables from 162 countries in 2018, plus the older yearly measures for each country going back until 2008. All measures are compiled into an index from 1 to 10, with a higher number representig more freedom. The research paper contains an explanation for how each variable was calculated and what weight was assigned to it when calculating the HFI. \n",
    "It is important to keep in mind that this data and the report concerning it were co-published by the Cato Institute (USA) and the Faser Institute (CAN). They are both libertarian and conservative \"think-tanks\", a fact that might influence the way the data was collected, and probably influences how it is interpreted in the paper."
   ]
  },
  {
   "cell_type": "markdown",
   "id": "aggregate-parameter",
   "metadata": {},
   "source": [
    "#### Dataset questions:\n",
    "-\tWhere did you obtain the dataset from?\n",
    "\n",
    "> I found it on https://www.kaggle.com by browsing the \"social science\" tag and filtering for .csv files. I downloaded the files and the research paper to go with it to find out where exactly the data came from. I plan to work with the newest dataset on the website, which is from 2020 and contains data up to 2018. The link to the dataset is https://www.kaggle.com/gsutters/the-human-freedom-index?select=hfi_cc_2020.csv\n",
    "\n",
    "-\tHow many observations are there?\n",
    "\n",
    "> There are 199'584 observations (162 countries, 11 years per country, 112 variables) if I count missings; and 186'661 if I don't count missings.\n",
    "\n",
    "-\tHow many variables are there?\n",
    "\n",
    "> There are 112 variables in total.\n",
    "\n",
    "-\tAre there multiple observations for the same units (e.g. multiple measurements of RTs per participant? Multiple evaluations per employee? etc)\n",
    "\n",
    "> Yes, there are multiple observations for the same countries because the dataset contains measures for each year from 2008-2018 for every country. "
   ]
  },
  {
   "cell_type": "markdown",
   "id": "entire-shopper",
   "metadata": {},
   "source": [
    "#### Project goals :\n",
    "\n",
    "> Briefly describe what questions would you like to address with this project. What are your dependent and independent variables?\n",
    "\n",
    "1. First, I would  like to explore the differences in HF over different countries and explore how their HFI has changed over time. Specifically, I want to explore:\n",
    "- How is \"freedom\" distributed in the world and over the different regions? I.e., what does the distribution look like? (DV: HFI, IV: country or region)\n",
    "- How has the distribution changed over the past decade? (DV: HFI, IV: country)\n",
    "- Which countries have shown the steepest growth in HF from 2008-2018? Which countries have shown the steepest decrease in HF from 2008-2018? (DV: HFI, IV: year)\n",
    "- Are there significant differences between female-specific freedoms and HF? If yes - do they differ between countries? (DV: difference in HFI, IV: country)\n",
    "\n",
    "2. Then, I would like to go into more detail about how the economy of a country is associated with personal freedom:\n",
    "- What does the correlation of the variable \"size of government\" with HF look like?\n",
    "- To what extent are Personal Freedom and Economic Freedom correlated? Are there countries with high PF and low EF, and vice versa? \n",
    "- Are stricter business regulations associated with lower or higher HF? What about higher taxes?\n",
    "\n",
    "3. Finally, I'd like to build a model which could help predict HFI in the future by training it with the data from years 2008-2013 and testing it with the data from years 2014-2018. (DV: HFI, IV: various)\n",
    "\n"
   ]
  },
  {
   "cell_type": "markdown",
   "id": "unable-relationship",
   "metadata": {},
   "source": [
    "#### Project methods:\n",
    "> Briefly describe what methods you plan to use to answer the project goals. These have to be based on the syllabus for the remaining of the course and/or the main textbook we are using. This is not a final commitment and you can change your plan as you progress, but describe here your current ideas and plans (briefly!)\n",
    "\n",
    "1. \n",
    "- How is \"freedom\" distributed in the world and over the different regions? I.e., what does the distribution look like? (DV: HFI, IV: country or region)\n",
    "I'm planning to show the distribution of HF in a density plot; first for the entire world (i.e., all available countries) and then be more precise and show the density plot for each region (i.e., only the countries belonging to that region). I'm interested to see if HF follows a skewed distribution with more countries having a rather high HFI, which is what I would hypothesize.\n",
    "- How has the distribution changed over the past decade? (DV: HFI, IV: country)\n",
    "Again, I would show this with a density plot, additionally I'd show a the scatter plot to show how HFI changes over the years and to find out if I can run a linear regression of year on HFI in order to put the influence of the year on HFI into numbers. \n",
    "- Which countries have shown the steepest growth in HF from 2008-2018? Which countries have shown the steepest decrease in HF from 2008-2018? (DV: HFI, IV: year)\n",
    "I would show the growth of HF in a scatterplot just like described above, but one for each country. Additionally I assume I can fit a linear regression of year on HFI for each country. I can then compare the slopes for each country to find out which one has the steepest increase or decline.\n",
    "- Are there significant differences between the index for female-specific freedoms and the HFI? \n",
    "I plan to run a t-test to find out whether there is a significant difference between the mean index for female-specific freedoms and the mean HFI. \n",
    "\n",
    "\n",
    "2. \n",
    "- What does the correlation of the variable \"size of government\" with HFI look like?\n",
    "I plan to use Pearson's product-moment correlation to find out if there is a significant correlation between these two variables.\n",
    "- To what extent are Personal Freedom and Economic Freedom correlated? Are there countries with high PF and low EF, and vice versa? \n",
    "I also plan to use Pearson's product-moment correlation to find out if there is a significant correlation between these two variables. In a second step, I would like to use a multiple regression model to find out if the correlation differs for different countries. Because \"country\" is a qualitative variable, I would have to create dummy variables for them.\n",
    "- Are stricter business regulations associated with lower or higher HF? What about higher taxes?\n",
    "Again, I would use Pearson's product-moment correlation to find out if there is a significant correlation between the two variables.\n",
    "\n",
    "3. \n",
    "In order to build a model which can predict HFI in the future, I would split my dataset in a group of 6 and one oof 5 years' worth of data and use the data from years 2008-2013 as training data. Then I could use the data from 2014-2018 to test my model. I plan to first try to fit a linear regression model and check its fit. If it does not show an aequate fit, I will try non-linear models."
   ]
  }
 ],
 "metadata": {
  "kernelspec": {
   "display_name": "R",
   "language": "R",
   "name": "ir"
  },
  "language_info": {
   "codemirror_mode": "r",
   "file_extension": ".r",
   "mimetype": "text/x-r-source",
   "name": "R",
   "pygments_lexer": "r",
   "version": "4.0.4"
  }
 },
 "nbformat": 4,
 "nbformat_minor": 5
}
